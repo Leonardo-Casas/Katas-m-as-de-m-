{
 "cells": [
  {
   "cell_type": "markdown",
   "metadata": {},
   "source": [
    "##### Detector de asteroides "
   ]
  },
  {
   "cell_type": "code",
   "execution_count": 5,
   "metadata": {},
   "outputs": [
    {
     "name": "stdout",
     "output_type": "stream",
     "text": [
      "¡Cuidado Sportacus!\n"
     ]
    }
   ],
   "source": [
    "x=input(\"Introduzca velocidad de asteroide: \")\n",
    "if int(x)>25:\n",
    "    print(\"¡Cuidado Sportacus!\")\n",
    "else: \n",
    "    print(\"Todo tranqui compa\")"
   ]
  },
  {
   "cell_type": "code",
   "execution_count": 8,
   "metadata": {},
   "outputs": [
    {
     "name": "stdout",
     "output_type": "stream",
     "text": [
      "¡Cuidado con los asteroides!\n"
     ]
    }
   ],
   "source": [
    "y=input(\"Velocidad de asteroide: \")\n",
    "if int(y)>20:\n",
    "    print(\"¡Cuidado con los asteroides!\")\n",
    "elif int(y)==20:\n",
    "    print(\"¡Observe los rayos!\")\n",
    "else:\n",
    "    print(\"No pasa nada aqui\") \n"
   ]
  },
  {
   "cell_type": "markdown",
   "metadata": {},
   "source": [
    "### Operadores and y or\n"
   ]
  },
  {
   "cell_type": "code",
   "execution_count": 15,
   "metadata": {},
   "outputs": [
    {
     "name": "stdout",
     "output_type": "stream",
     "text": [
      "Ya valió madres\n"
     ]
    }
   ],
   "source": [
    "x=input(\"Tamaño de asteroide: \")\n",
    "dimension=int(x)\n",
    "y=input(\"Velocidad de asteroide\")\n",
    "velocidad=int(y)\n",
    "if dimension>25 and velocidad>25:\n",
    "    print(\"Ya llévanos Diosito\")\n",
    "elif dimension>25 or velocidad>25:\n",
    "    print(\"Ya valió madres\")\n",
    "else:\n",
    "    print(\"Todo tranqui\")\n"
   ]
  }
 ],
 "metadata": {
  "interpreter": {
   "hash": "336c20d8bab47f71d2bad77491267848f72e04c090c23bf812af5c85ef354377"
  },
  "kernelspec": {
   "display_name": "Python 3.10.2 64-bit",
   "language": "python",
   "name": "python3"
  },
  "language_info": {
   "codemirror_mode": {
    "name": "ipython",
    "version": 3
   },
   "file_extension": ".py",
   "mimetype": "text/x-python",
   "name": "python",
   "nbconvert_exporter": "python",
   "pygments_lexer": "ipython3",
   "version": "3.10.2"
  },
  "orig_nbformat": 4
 },
 "nbformat": 4,
 "nbformat_minor": 2
}
