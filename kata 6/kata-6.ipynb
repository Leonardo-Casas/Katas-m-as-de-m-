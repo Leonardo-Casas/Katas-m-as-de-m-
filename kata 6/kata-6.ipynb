{
 "cells": [
  {
   "cell_type": "markdown",
   "metadata": {},
   "source": [
    "## Ejercicio 1"
   ]
  },
  {
   "cell_type": "code",
   "execution_count": 8,
   "metadata": {},
   "outputs": [
    {
     "name": "stdout",
     "output_type": "stream",
     "text": [
      "Hay 8 planetas en el sistema solar\n",
      "Pluton es el último planeta del sistema solar\n"
     ]
    }
   ],
   "source": [
    "planets=[\"Mercurio\", \"Venus\", \"Tierra\", \"Marte\", \"Jupiter\", \"Saturno\", \"Urano\", \"Neptuno\"]\n",
    "print(\"Hay\",len(planets),\"planetas en el sistema solar\")\n",
    "planets.append(\"Pluton\")\n",
    "print(planets[-1],\"es el último planeta del sistema solar\")"
   ]
  },
  {
   "cell_type": "markdown",
   "metadata": {},
   "source": [
    "## Ejercicio 2"
   ]
  },
  {
   "cell_type": "code",
   "execution_count": 13,
   "metadata": {},
   "outputs": [
    {
     "name": "stdout",
     "output_type": "stream",
     "text": [
      "[] quedan mas cerca del sol que Mercurio\n",
      "['Venus', 'Tierra', 'Marte', 'Jupiter', 'Saturno', 'Urano', 'Neptuno'] quedan mas lejanos del sol que Mercurio\n"
     ]
    }
   ],
   "source": [
    "planets=[\"Mercurio\", \"Venus\", \"Tierra\", \"Marte\", \"Jupiter\", \"Saturno\", \"Urano\", \"Neptuno\"]\n",
    "planeta_1=input(\"Escriba con la inicial mayúscula el nombre del planeta\")\n",
    "indice_planeta=planets.index(planeta_1) \n",
    "print(planets[0:indice_planeta],\"quedan mas cerca del sol que\", planeta_1)\n",
    "print(planets[indice_planeta+1:],\"quedan mas lejanos del sol que\",planeta_1)\n",
    "\n"
   ]
  }
 ],
 "metadata": {
  "interpreter": {
   "hash": "23e95b645c2e83190daf874cf2036818e189050ee7a5ba09030cdd6e089d1641"
  },
  "kernelspec": {
   "display_name": "Python 3.10.2 64-bit (windows store)",
   "language": "python",
   "name": "python3"
  },
  "language_info": {
   "codemirror_mode": {
    "name": "ipython",
    "version": 3
   },
   "file_extension": ".py",
   "mimetype": "text/x-python",
   "name": "python",
   "nbconvert_exporter": "python",
   "pygments_lexer": "ipython3",
   "version": "3.10.2"
  },
  "orig_nbformat": 4
 },
 "nbformat": 4,
 "nbformat_minor": 2
}
