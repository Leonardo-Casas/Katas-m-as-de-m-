{
 "cells": [
  {
   "cell_type": "markdown",
   "metadata": {},
   "source": [
    "## Ejercicio 1"
   ]
  },
  {
   "cell_type": "code",
   "execution_count": 2,
   "metadata": {},
   "outputs": [
    {
     "name": "stdout",
     "output_type": "stream",
     "text": [
      "628949330\n",
      "390577533.93\n"
     ]
    }
   ],
   "source": [
    "planeta1=149597870\n",
    "planeta2=778547200\n",
    "distancia=planeta2-planeta1\n",
    "print(distancia)\n",
    "distancia_mi=distancia*0.621\n",
    "print(distancia_mi)"
   ]
  },
  {
   "cell_type": "markdown",
   "metadata": {},
   "source": [
    "## Ejercicio 2"
   ]
  },
  {
   "cell_type": "code",
   "execution_count": 4,
   "metadata": {},
   "outputs": [
    {
     "name": "stdout",
     "output_type": "stream",
     "text": [
      "8\n",
      "4.968\n"
     ]
    }
   ],
   "source": [
    "planeta_1=int(input(\"Distancia del primer planeta: \"))\n",
    "planeta_2=int(input(\"Distancia del segundo planeta: \"))\n",
    "distancia_km=abs(planeta_2-planeta_1)\n",
    "print(distancia_km)\n",
    "distancia_mi1=abs(distancia_km*0.621)\n",
    "print(distancia_mi1)\n",
    "\n"
   ]
  }
 ],
 "metadata": {
  "interpreter": {
   "hash": "23e95b645c2e83190daf874cf2036818e189050ee7a5ba09030cdd6e089d1641"
  },
  "kernelspec": {
   "display_name": "Python 3.10.2 64-bit (windows store)",
   "language": "python",
   "name": "python3"
  },
  "language_info": {
   "codemirror_mode": {
    "name": "ipython",
    "version": 3
   },
   "file_extension": ".py",
   "mimetype": "text/x-python",
   "name": "python",
   "nbconvert_exporter": "python",
   "pygments_lexer": "ipython3",
   "version": "3.10.2"
  },
  "orig_nbformat": 4
 },
 "nbformat": 4,
 "nbformat_minor": 2
}
